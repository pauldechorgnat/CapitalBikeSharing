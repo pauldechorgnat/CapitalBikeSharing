{
 "cells": [
  {
   "cell_type": "code",
   "execution_count": 1,
   "metadata": {
    "collapsed": true
   },
   "outputs": [],
   "source": [
    "import pandas as pd\n",
    "import numpy as np \n",
    "from os import listdir\n",
    "pd.options.mode.chained_assignment = None"
   ]
  },
  {
   "cell_type": "code",
   "execution_count": 2,
   "metadata": {
    "collapsed": true
   },
   "outputs": [],
   "source": [
    "path = \"C:/Users/Marie/Desktop/MSc DSBA/1. Big Data Analytics/1. Project/Full Data/Cleaned Data\""
   ]
  },
  {
   "cell_type": "code",
   "execution_count": 3,
   "metadata": {
    "collapsed": true
   },
   "outputs": [],
   "source": [
    "files = [file for file in listdir(path + \"/Weather Data/Monthly Data\") if file[-3:]=='csv']"
   ]
  },
  {
   "cell_type": "code",
   "execution_count": 4,
   "metadata": {},
   "outputs": [],
   "source": [
    "dfs = []\n",
    "for index, file in enumerate(files):\n",
    "    df_spec = pd.read_csv(path + \"/Weather Data/Monthly Data/\"+ file, encoding = 'cp1252')\n",
    "\n",
    "    df_spec = df_spec.set_index(df_spec['field'])\n",
    "    df_spec = df_spec.T.drop('field')\n",
    "    df_spec['max_temp'] = df_spec['Température maximale'].apply(lambda x: str(x).replace('°', '') if pd.notnull(x) else x).astype(float)\n",
    "    df_spec['min_temp'] = df_spec['Température minimale'].apply(lambda x: str(x).replace('°', '')if pd.notnull(x) else x).astype(float)\n",
    "    df_spec['wind_speed'] = df_spec['Vitesse du vent'].apply(lambda x: str(x).replace('km/h', '')if pd.notnull(x) else x).astype(float)\n",
    "    df_spec['wind_temp'] = df_spec['Température du vent'].apply(lambda x: str(x).replace('°', '')if pd.notnull(x) else x).astype(float)\n",
    "    df_spec['rain'] = df_spec['Précipitations'].apply(lambda x: str(x).replace('mm', '')if pd.notnull(x) else x).astype(float)\n",
    "    df_spec['hum'] = df_spec['Humidité'].apply(lambda x: str(x).replace('%', '')if pd.notnull(x) else x).astype(float)\n",
    "    df_spec['visibility'] = df_spec['Visibilité'].apply(lambda x: str(x).replace('km', '')if pd.notnull(x) else x).astype(float)\n",
    "    df_spec['clouds'] = df_spec['Couverture nuageuse'].apply(lambda x: str(x).replace('%', '')if pd.notnull(x) else x).astype(float)\n",
    "    df_spec['chaleur_index'] = df_spec['Indice de chaleur'].apply(lambda x: str(x)if pd.notnull(x) else x).astype(float)\n",
    "    df_spec['rosee'] = df_spec['Point de rosée'].apply(lambda x: str(x).replace('°C', '')if pd.notnull(x) else x).astype(float)\n",
    "    df_spec['pressure'] = df_spec['Pression'].apply(lambda x: str(x).replace('hPa', '')if pd.notnull(x) else x).astype(float)\n",
    "    df_spec['sunrise'] = df_spec['Heure du lever du soleil'].apply(lambda x: int(x[:2]))\n",
    "    df_spec['sunset'] = df_spec['Heure du coucher du soleil'].apply(lambda x: int(x[:2]))\n",
    "    df_spec = df_spec[['max_temp', 'min_temp', 'wind_speed', 'wind_temp',\n",
    "                       'rain', 'hum', 'visibility', 'clouds', 'chaleur_index',\n",
    "                       'rosee', 'pressure', 'sunrise', 'sunset']]\n",
    "    dfs.append(df_spec)\n",
    "del df_spec"
   ]
  },
  {
   "cell_type": "code",
   "execution_count": 5,
   "metadata": {},
   "outputs": [],
   "source": [
    "df_weather = pd.concat(dfs, axis = 0)"
   ]
  },
  {
   "cell_type": "code",
   "execution_count": 6,
   "metadata": {},
   "outputs": [
    {
     "data": {
      "text/html": [
       "<div>\n",
       "<style>\n",
       "    .dataframe thead tr:only-child th {\n",
       "        text-align: right;\n",
       "    }\n",
       "\n",
       "    .dataframe thead th {\n",
       "        text-align: left;\n",
       "    }\n",
       "\n",
       "    .dataframe tbody tr th {\n",
       "        vertical-align: top;\n",
       "    }\n",
       "</style>\n",
       "<table border=\"1\" class=\"dataframe\">\n",
       "  <thead>\n",
       "    <tr style=\"text-align: right;\">\n",
       "      <th>field</th>\n",
       "      <th>max_temp</th>\n",
       "      <th>min_temp</th>\n",
       "      <th>wind_speed</th>\n",
       "      <th>wind_temp</th>\n",
       "      <th>rain</th>\n",
       "      <th>hum</th>\n",
       "      <th>visibility</th>\n",
       "      <th>clouds</th>\n",
       "      <th>chaleur_index</th>\n",
       "      <th>rosee</th>\n",
       "      <th>pressure</th>\n",
       "      <th>sunrise</th>\n",
       "      <th>sunset</th>\n",
       "    </tr>\n",
       "  </thead>\n",
       "  <tbody>\n",
       "    <tr>\n",
       "      <th>2010/09/15</th>\n",
       "      <td>29.0</td>\n",
       "      <td>17.0</td>\n",
       "      <td>8.0</td>\n",
       "      <td>17.0</td>\n",
       "      <td>0.0</td>\n",
       "      <td>72.0</td>\n",
       "      <td>10.000</td>\n",
       "      <td>7.0</td>\n",
       "      <td>29.0</td>\n",
       "      <td>15.0</td>\n",
       "      <td>1020.0</td>\n",
       "      <td>5</td>\n",
       "      <td>18</td>\n",
       "    </tr>\n",
       "    <tr>\n",
       "      <th>2010/09/16</th>\n",
       "      <td>31.0</td>\n",
       "      <td>17.0</td>\n",
       "      <td>16.0</td>\n",
       "      <td>17.0</td>\n",
       "      <td>1.0</td>\n",
       "      <td>93.0</td>\n",
       "      <td>8.750</td>\n",
       "      <td>46.0</td>\n",
       "      <td>31.0</td>\n",
       "      <td>18.0</td>\n",
       "      <td>1019.0</td>\n",
       "      <td>5</td>\n",
       "      <td>18</td>\n",
       "    </tr>\n",
       "    <tr>\n",
       "      <th>2010/09/17</th>\n",
       "      <td>25.0</td>\n",
       "      <td>18.0</td>\n",
       "      <td>15.0</td>\n",
       "      <td>18.0</td>\n",
       "      <td>2.0</td>\n",
       "      <td>95.0</td>\n",
       "      <td>9.625</td>\n",
       "      <td>24.0</td>\n",
       "      <td>26.0</td>\n",
       "      <td>17.0</td>\n",
       "      <td>1020.0</td>\n",
       "      <td>5</td>\n",
       "      <td>18</td>\n",
       "    </tr>\n",
       "    <tr>\n",
       "      <th>2010/09/19</th>\n",
       "      <td>29.0</td>\n",
       "      <td>16.0</td>\n",
       "      <td>5.0</td>\n",
       "      <td>16.0</td>\n",
       "      <td>NaN</td>\n",
       "      <td>80.0</td>\n",
       "      <td>10.000</td>\n",
       "      <td>10.0</td>\n",
       "      <td>29.0</td>\n",
       "      <td>15.0</td>\n",
       "      <td>1021.0</td>\n",
       "      <td>5</td>\n",
       "      <td>18</td>\n",
       "    </tr>\n",
       "    <tr>\n",
       "      <th>2010/09/20</th>\n",
       "      <td>25.0</td>\n",
       "      <td>16.0</td>\n",
       "      <td>18.0</td>\n",
       "      <td>16.0</td>\n",
       "      <td>NaN</td>\n",
       "      <td>83.0</td>\n",
       "      <td>10.000</td>\n",
       "      <td>10.0</td>\n",
       "      <td>25.0</td>\n",
       "      <td>17.0</td>\n",
       "      <td>1019.0</td>\n",
       "      <td>5</td>\n",
       "      <td>18</td>\n",
       "    </tr>\n",
       "  </tbody>\n",
       "</table>\n",
       "</div>"
      ],
      "text/plain": [
       "field       max_temp  min_temp  wind_speed  wind_temp  rain   hum  visibility  \\\n",
       "2010/09/15      29.0      17.0         8.0       17.0   0.0  72.0      10.000   \n",
       "2010/09/16      31.0      17.0        16.0       17.0   1.0  93.0       8.750   \n",
       "2010/09/17      25.0      18.0        15.0       18.0   2.0  95.0       9.625   \n",
       "2010/09/19      29.0      16.0         5.0       16.0   NaN  80.0      10.000   \n",
       "2010/09/20      25.0      16.0        18.0       16.0   NaN  83.0      10.000   \n",
       "\n",
       "field       clouds  chaleur_index  rosee  pressure  sunrise  sunset  \n",
       "2010/09/15     7.0           29.0   15.0    1020.0        5      18  \n",
       "2010/09/16    46.0           31.0   18.0    1019.0        5      18  \n",
       "2010/09/17    24.0           26.0   17.0    1020.0        5      18  \n",
       "2010/09/19    10.0           29.0   15.0    1021.0        5      18  \n",
       "2010/09/20    10.0           25.0   17.0    1019.0        5      18  "
      ]
     },
     "execution_count": 6,
     "metadata": {},
     "output_type": "execute_result"
    }
   ],
   "source": [
    "df_weather.head()"
   ]
  },
  {
   "cell_type": "code",
   "execution_count": 7,
   "metadata": {
    "collapsed": true
   },
   "outputs": [],
   "source": [
    "df_weather = df_weather.reset_index()"
   ]
  },
  {
   "cell_type": "code",
   "execution_count": 8,
   "metadata": {
    "collapsed": true
   },
   "outputs": [],
   "source": [
    "holidays = pd.read_csv(path + \"/holidays.csv\")"
   ]
  },
  {
   "cell_type": "code",
   "execution_count": 9,
   "metadata": {
    "collapsed": true
   },
   "outputs": [],
   "source": [
    "holidays['string_date'] = holidays['year'].astype(str) + '/' +\\\n",
    "holidays['month'].apply(lambda x: '0'+str(x) if len(str(x))==1 else str(x)) + '/' + \\\n",
    "holidays['day'].apply(lambda x: '0'+str(x) if len(str(x))==1 else str(x)) \n"
   ]
  },
  {
   "cell_type": "code",
   "execution_count": 10,
   "metadata": {
    "collapsed": true
   },
   "outputs": [],
   "source": [
    "holidays['holiday'] = 1"
   ]
  },
  {
   "cell_type": "code",
   "execution_count": 11,
   "metadata": {
    "collapsed": true
   },
   "outputs": [],
   "source": [
    "df_weather = pd.merge(left = df_weather, right = holidays, left_on = 'index', right_on = 'string_date', how = 'left')"
   ]
  },
  {
   "cell_type": "code",
   "execution_count": 12,
   "metadata": {
    "collapsed": true
   },
   "outputs": [],
   "source": [
    "df_weather = df_weather.drop(['day', 'month', 'year', 'string_date'], axis = 1)"
   ]
  },
  {
   "cell_type": "code",
   "execution_count": 13,
   "metadata": {
    "collapsed": true
   },
   "outputs": [],
   "source": [
    "df_weather['holiday'] = df_weather['holiday'].fillna(0).astype(int)"
   ]
  },
  {
   "cell_type": "code",
   "execution_count": 14,
   "metadata": {
    "collapsed": true
   },
   "outputs": [],
   "source": [
    "df_weather['index'] = pd.to_datetime(df_weather['index'])"
   ]
  },
  {
   "cell_type": "code",
   "execution_count": 15,
   "metadata": {
    "collapsed": true
   },
   "outputs": [],
   "source": [
    "df_weather = df_weather.sort_values('index')"
   ]
  },
  {
   "cell_type": "code",
   "execution_count": 16,
   "metadata": {
    "collapsed": true
   },
   "outputs": [],
   "source": [
    "df_weather['weekday'] = [(i + 3)%7 for i in range(df_weather.shape[0])] "
   ]
  },
  {
   "cell_type": "code",
   "execution_count": 17,
   "metadata": {
    "collapsed": true
   },
   "outputs": [],
   "source": [
    "df_weather['workday'] = 1 - np.logical_or(np.logical_or(df_weather.weekday == 6, df_weather.weekday == 0), df_weather.holiday == 1)"
   ]
  },
  {
   "cell_type": "code",
   "execution_count": null,
   "metadata": {
    "collapsed": true
   },
   "outputs": [],
   "source": []
  },
  {
   "cell_type": "code",
   "execution_count": null,
   "metadata": {
    "collapsed": true
   },
   "outputs": [],
   "source": []
  },
  {
   "cell_type": "code",
   "execution_count": 18,
   "metadata": {
    "collapsed": true
   },
   "outputs": [],
   "source": [
    "df_weather['avg_temp'] = df_weather[['min_temp', 'max_temp']].mean(axis =1)\n",
    "\n",
    "df_weather['wind_speed'] = df_weather['wind_speed']/3.6\n",
    "\n",
    "df_weather['hum'] = df_weather['hum']/100."
   ]
  },
  {
   "cell_type": "code",
   "execution_count": 19,
   "metadata": {
    "collapsed": true
   },
   "outputs": [],
   "source": [
    "df_users = pd.read_csv(path + '/full_daily_data.csv')"
   ]
  },
  {
   "cell_type": "code",
   "execution_count": 20,
   "metadata": {
    "collapsed": true
   },
   "outputs": [],
   "source": [
    "df_users['string_date'] = df_users['year'].astype(str) + '/' +\\\n",
    "df_users['month'].apply(lambda x: '0'+str(x) if len(str(x))==1 else str(x)) + '/' + \\\n",
    "df_users['day'].apply(lambda x: '0'+str(x) if len(str(x))==1 else str(x)) \n"
   ]
  },
  {
   "cell_type": "code",
   "execution_count": 21,
   "metadata": {
    "collapsed": true
   },
   "outputs": [],
   "source": [
    "df_weather['string_date'] = df_weather['index'].astype(str).apply(lambda x : str(x).replace('-', '/'))"
   ]
  },
  {
   "cell_type": "code",
   "execution_count": 22,
   "metadata": {},
   "outputs": [
    {
     "data": {
      "text/plain": [
       "(2171, 19)"
      ]
     },
     "execution_count": 22,
     "metadata": {},
     "output_type": "execute_result"
    }
   ],
   "source": [
    "df_weather.shape"
   ]
  },
  {
   "cell_type": "code",
   "execution_count": 23,
   "metadata": {},
   "outputs": [
    {
     "data": {
      "text/plain": [
       "(2202, 8)"
      ]
     },
     "execution_count": 23,
     "metadata": {},
     "output_type": "execute_result"
    }
   ],
   "source": [
    "df_users.shape"
   ]
  },
  {
   "cell_type": "code",
   "execution_count": 24,
   "metadata": {
    "collapsed": true
   },
   "outputs": [],
   "source": [
    "df_total = pd.merge(left = df_weather, right = df_users, on = 'string_date', how = 'right')"
   ]
  },
  {
   "cell_type": "code",
   "execution_count": 25,
   "metadata": {
    "collapsed": true
   },
   "outputs": [],
   "source": [
    "df_total['atemp'] = 13.12 + 0.6215 * df_total['avg_temp'] - 11.37*df_total['wind_speed']**0.16 +\\\n",
    "0.3965 * df_total['avg_temp']*df_total['wind_speed']**.16"
   ]
  },
  {
   "cell_type": "code",
   "execution_count": 26,
   "metadata": {
    "collapsed": true
   },
   "outputs": [],
   "source": [
    "df_total.to_csv(path + '/full_data.csv', encoding = 'utf-8', index = False)"
   ]
  },
  {
   "cell_type": "code",
   "execution_count": null,
   "metadata": {},
   "outputs": [],
   "source": []
  },
  {
   "cell_type": "code",
   "execution_count": null,
   "metadata": {},
   "outputs": [],
   "source": []
  },
  {
   "cell_type": "code",
   "execution_count": null,
   "metadata": {
    "collapsed": true
   },
   "outputs": [],
   "source": []
  }
 ],
 "metadata": {
  "kernelspec": {
   "display_name": "Python 3",
   "language": "python",
   "name": "python3"
  },
  "language_info": {
   "codemirror_mode": {
    "name": "ipython",
    "version": 3
   },
   "file_extension": ".py",
   "mimetype": "text/x-python",
   "name": "python",
   "nbconvert_exporter": "python",
   "pygments_lexer": "ipython3",
   "version": "3.6.3"
  }
 },
 "nbformat": 4,
 "nbformat_minor": 2
}
