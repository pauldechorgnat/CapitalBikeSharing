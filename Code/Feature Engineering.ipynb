{
 "cells": [
  {
   "cell_type": "code",
   "execution_count": 1,
   "metadata": {
    "collapsed": true
   },
   "outputs": [],
   "source": [
    "path_ = 'C:/Users/Paul/Desktop/MSc DSBA/1. Big Data Analytics/1. Project/Full Data/Cleaned Data/'"
   ]
  },
  {
   "cell_type": "markdown",
   "metadata": {},
   "source": [
    "### Importing packages"
   ]
  },
  {
   "cell_type": "code",
   "execution_count": 2,
   "metadata": {
    "collapsed": true
   },
   "outputs": [],
   "source": [
    "from os import listdir\n",
    "import pandas as pd\n",
    "import numpy as np"
   ]
  },
  {
   "cell_type": "code",
   "execution_count": 3,
   "metadata": {},
   "outputs": [
    {
     "name": "stdout",
     "output_type": "stream",
     "text": [
      "['featured_data.csv', 'full_daily_data.csv', 'full_data.csv', 'full_hourly_data.csv', 'holidays.csv', 'hourly_full_data.csv', 'log.txt', 'log_year.txt', 'stations.csv', 'Weather Data']\n"
     ]
    }
   ],
   "source": [
    "print(listdir(path_))"
   ]
  },
  {
   "cell_type": "markdown",
   "metadata": {},
   "source": [
    "### Loading data"
   ]
  },
  {
   "cell_type": "code",
   "execution_count": 4,
   "metadata": {
    "collapsed": true
   },
   "outputs": [],
   "source": [
    "df = pd.read_csv(path_ + 'full_data.csv').drop(['cnt', 'casual', 'registered', 'wkday'], axis = 1)\n",
    "df_hour = pd.read_csv(path_ + 'full_hourly_data.csv')\n",
    "df = pd.merge(left = df, right = df_hour, on =  ['year', 'month', 'day'], how = 'outer')"
   ]
  },
  {
   "cell_type": "markdown",
   "metadata": {},
   "source": [
    "### Cosine distance feature engineering"
   ]
  },
  {
   "cell_type": "code",
   "execution_count": 5,
   "metadata": {
    "collapsed": true
   },
   "outputs": [],
   "source": [
    "df['hr_sin'] = np.sin(df.hour*(2.*np.pi/24))\n",
    "df['hr_cos'] = np.cos(df.hour*(2.*np.pi/24))\n",
    "df['wkday_sin'] = np.sin(df.weekday*(2.*np.pi/7))\n",
    "df['wkday_cos'] = np.cos(df.weekday*(2.*np.pi/7))\n",
    "df['sunrise_sin'] = np.sin(df.sunrise*(2.*np.pi/24))\n",
    "df['sunrise_cos'] = np.cos(df.sunrise*(2.*np.pi/24))\n",
    "df['sunset_sin'] = np.sin(df.sunset*(2.*np.pi/24))\n",
    "df['sunset_cos'] = np.cos(df.sunset*(2.*np.pi/24))\n",
    "df['mnth_sin'] = np.sin((df.month-1)*(2.*np.pi/12))\n",
    "df['mnth_cos'] = np.cos((df.month-1)*(2.*np.pi/12))\n",
    "df['light'] = np.logical_and(df.hour>= df.sunrise, df.hour<df.sunset+1)"
   ]
  },
  {
   "cell_type": "markdown",
   "metadata": {},
   "source": [
    "### Setting index"
   ]
  },
  {
   "cell_type": "code",
   "execution_count": 6,
   "metadata": {
    "collapsed": true
   },
   "outputs": [],
   "source": [
    "df = df.set_index('index', drop = True)\n",
    "# df_targets = df[['casual', 'registered', 'cnt']]\n",
    "# df = df.drop(['casual', 'registered', 'cnt'], axis = 1)"
   ]
  },
  {
   "cell_type": "code",
   "execution_count": 7,
   "metadata": {
    "collapsed": true
   },
   "outputs": [],
   "source": [
    "meteo_col = ['max_temp', 'min_temp', 'wind_speed', 'wind_temp', 'rain', 'hum',\n",
    "       'visibility', 'clouds', 'chaleur_index', 'rosee', 'pressure', 'sunrise',\n",
    "       'sunset', 'light']\n",
    "time_col = ['holiday', 'weekday', 'workday', 'avg_temp', 'string_date',\n",
    "       'year', 'month', 'day', 'atemp', 'wkday', 'hour', 'hr_sin', 'hr_cos', 'wkday_sin', 'wkday_cos',\n",
    "       'sunrise_sin', 'sunrise_cos', 'sunset_sin', 'sunset_cos', 'mnth_sin',\n",
    "       'mnth_cos']\n",
    "target_col = ['casual',\n",
    "       'registered', 'cnt']"
   ]
  },
  {
   "cell_type": "code",
   "execution_count": null,
   "metadata": {
    "collapsed": true
   },
   "outputs": [],
   "source": []
  },
  {
   "cell_type": "code",
   "execution_count": 8,
   "metadata": {
    "collapsed": true
   },
   "outputs": [],
   "source": [
    "df = df[pd.notnull(df.atemp)]\n",
    "df = df.sort_values(['year', 'month', 'day', 'hour'])\n",
    "df = df.fillna(method = 'ffill')\n",
    "df = df.drop([\"rosee\", \"chaleur_index\", 'sunrise', 'sunset'], axis = 1)"
   ]
  },
  {
   "cell_type": "code",
   "execution_count": 9,
   "metadata": {},
   "outputs": [
    {
     "name": "stdout",
     "output_type": "stream",
     "text": [
      "max_temp\t 0\n",
      "min_temp\t 0\n",
      "wind_speed\t 0\n",
      "wind_temp\t 0\n",
      "rain\t 0\n",
      "hum\t 0\n",
      "visibility\t 0\n",
      "clouds\t 0\n",
      "pressure\t 0\n",
      "holiday\t 0\n",
      "weekday\t 0\n",
      "workday\t 0\n",
      "avg_temp\t 0\n",
      "string_date\t 0\n",
      "year\t 0\n",
      "month\t 0\n",
      "day\t 0\n",
      "atemp\t 0\n",
      "wkday\t 0\n",
      "hour\t 0\n",
      "casual\t 0\n",
      "registered\t 0\n",
      "cnt\t 0\n",
      "hr_sin\t 0\n",
      "hr_cos\t 0\n",
      "wkday_sin\t 0\n",
      "wkday_cos\t 0\n",
      "sunrise_sin\t 0\n",
      "sunrise_cos\t 0\n",
      "sunset_sin\t 0\n",
      "sunset_cos\t 0\n",
      "mnth_sin\t 0\n",
      "mnth_cos\t 0\n",
      "light\t 0\n"
     ]
    }
   ],
   "source": [
    "for col in df.columns:\n",
    "    print(col + '\\t', sum(pd.isnull(df[col])))"
   ]
  },
  {
   "cell_type": "code",
   "execution_count": 10,
   "metadata": {
    "collapsed": true
   },
   "outputs": [],
   "source": [
    "df.to_csv(path_+'featured_data.csv', index = True)"
   ]
  }
 ],
 "metadata": {
  "kernelspec": {
   "display_name": "Python [default]",
   "language": "python",
   "name": "python3"
  },
  "language_info": {
   "codemirror_mode": {
    "name": "ipython",
    "version": 3
   },
   "file_extension": ".py",
   "mimetype": "text/x-python",
   "name": "python",
   "nbconvert_exporter": "python",
   "pygments_lexer": "ipython3",
   "version": "3.5.3"
  }
 },
 "nbformat": 4,
 "nbformat_minor": 2
}
