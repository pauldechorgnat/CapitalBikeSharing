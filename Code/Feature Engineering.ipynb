{
 "cells": [
  {
   "cell_type": "code",
   "execution_count": 54,
   "metadata": {
    "collapsed": true
   },
   "outputs": [],
   "source": [
    "path_ = 'C:/Users/Marie/Desktop/MSc DSBA/1. Big Data Analytics/1. Project/Full Data/Cleaned Data/'"
   ]
  },
  {
   "cell_type": "markdown",
   "metadata": {},
   "source": [
    "### Importing packages"
   ]
  },
  {
   "cell_type": "code",
   "execution_count": 60,
   "metadata": {
    "collapsed": true
   },
   "outputs": [],
   "source": [
    "from os import listdir\n",
    "import pandas as pd\n",
    "import numpy as np"
   ]
  },
  {
   "cell_type": "code",
   "execution_count": 61,
   "metadata": {},
   "outputs": [
    {
     "name": "stdout",
     "output_type": "stream",
     "text": [
      "['full_daily_data.csv', 'full_data.csv', 'full_hourly_data.csv', 'holidays.csv', 'hourly_full_data.csv', 'log.txt', 'log_year.txt', 'stations.csv', 'Weather Data']\n"
     ]
    }
   ],
   "source": [
    "print(listdir(path_))"
   ]
  },
  {
   "cell_type": "markdown",
   "metadata": {},
   "source": [
    "### Loading data"
   ]
  },
  {
   "cell_type": "code",
   "execution_count": 62,
   "metadata": {
    "collapsed": true
   },
   "outputs": [],
   "source": [
    "df = pd.read_csv(path_ + 'full_data.csv').drop(['cnt', 'casual', 'registered', 'wkday'], axis = 1)\n",
    "df_hour = pd.read_csv(path_ + 'full_hourly_data.csv')\n",
    "df = pd.merge(left = df, right = df_hour, on =  ['year', 'month', 'day'], how = 'outer')"
   ]
  },
  {
   "cell_type": "markdown",
   "metadata": {},
   "source": [
    "### Cosine distance feature engineering"
   ]
  },
  {
   "cell_type": "code",
   "execution_count": 63,
   "metadata": {},
   "outputs": [],
   "source": [
    "df['hr_sin'] = np.sin(df.hour*(2.*np.pi/24))\n",
    "df['hr_cos'] = np.cos(df.hour*(2.*np.pi/24))\n",
    "df['wkday_sin'] = np.sin(df.weekday*(2.*np.pi/7))\n",
    "df['wkday_cos'] = np.cos(df.weekday*(2.*np.pi/7))\n",
    "df['sunrise_sin'] = np.sin(df.sunrise*(2.*np.pi/24))\n",
    "df['sunrise_cos'] = np.cos(df.sunrise*(2.*np.pi/24))\n",
    "df['sunset_sin'] = np.sin(df.sunset*(2.*np.pi/24))\n",
    "df['sunset_cos'] = np.cos(df.sunset*(2.*np.pi/24))\n",
    "df['mnth_sin'] = np.sin((df.month-1)*(2.*np.pi/12))\n",
    "df['mnth_cos'] = np.cos((df.month-1)*(2.*np.pi/12))\n",
    "df['light'] = np.logical_and(df.hour>= df.sunrise, df.hour<df.sunset+1)"
   ]
  },
  {
   "cell_type": "markdown",
   "metadata": {},
   "source": [
    "### Setting index"
   ]
  },
  {
   "cell_type": "code",
   "execution_count": 64,
   "metadata": {},
   "outputs": [],
   "source": [
    "df = df.set_index('index', drop = True)\n",
    "# df_targets = df[['casual', 'registered', 'cnt']]\n",
    "# df = df.drop(['casual', 'registered', 'cnt'], axis = 1)"
   ]
  },
  {
   "cell_type": "code",
   "execution_count": 66,
   "metadata": {},
   "outputs": [],
   "source": [
    "meteo_col = ['max_temp', 'min_temp', 'wind_speed', 'wind_temp', 'rain', 'hum',\n",
    "       'visibility', 'clouds', 'chaleur_index', 'rosee', 'pressure', 'sunrise',\n",
    "       'sunset', 'light']\n",
    "time_col = ['holiday', 'weekday', 'workday', 'avg_temp', 'string_date',\n",
    "       'year', 'month', 'day', 'atemp', 'wkday', 'hour', 'hr_sin', 'hr_cos', 'wkday_sin', 'wkday_cos',\n",
    "       'sunrise_sin', 'sunrise_cos', 'sunset_sin', 'sunset_cos', 'mnth_sin',\n",
    "       'mnth_cos']\n",
    "target_col = ['casual',\n",
    "       'registered', 'cnt']"
   ]
  },
  {
   "cell_type": "code",
   "execution_count": null,
   "metadata": {
    "collapsed": true
   },
   "outputs": [],
   "source": []
  },
  {
   "cell_type": "code",
   "execution_count": 11,
   "metadata": {
    "collapsed": true
   },
   "outputs": [],
   "source": [
    "df = df[pd.notnull(df.atemp)]\n",
    "df = df.sort_values(['year', 'month', 'day', 'hour'])\n",
    "df = df.fillna(method = 'ffill')\n",
    "df = df.drop([\"rosee\", \"chaleur_index\", 'sunrise', 'sunset', 'hour'], axis = 1)"
   ]
  },
  {
   "cell_type": "code",
   "execution_count": 12,
   "metadata": {},
   "outputs": [
    {
     "name": "stdout",
     "output_type": "stream",
     "text": [
      "max_temp\t 0\n",
      "min_temp\t 0\n",
      "wind_speed\t 0\n",
      "wind_temp\t 0\n",
      "rain\t 0\n",
      "hum\t 0\n",
      "visibility\t 0\n",
      "clouds\t 0\n",
      "pressure\t 0\n",
      "holiday\t 0\n",
      "weekday\t 0\n",
      "workday\t 0\n",
      "avg_temp\t 0\n",
      "string_date\t 0\n",
      "year\t 0\n",
      "month\t 0\n",
      "day\t 0\n",
      "atemp\t 0\n",
      "wkday\t 0\n",
      "hr_sin\t 0\n",
      "hr_cos\t 0\n",
      "wkday_sin\t 0\n",
      "wkday_cos\t 0\n",
      "sunrise_sin\t 0\n",
      "sunrise_cos\t 0\n",
      "sunset_sin\t 0\n",
      "sunset_cos\t 0\n",
      "mnth_sin\t 0\n",
      "mnth_cos\t 0\n",
      "light\t 0\n"
     ]
    }
   ],
   "source": [
    "for col in df.columns:\n",
    "    print(col + '\\t', sum(pd.isnull(df[col])))"
   ]
  },
  {
   "cell_type": "code",
   "execution_count": 13,
   "metadata": {
    "collapsed": true
   },
   "outputs": [],
   "source": [
    "df_targets = df_targets.sort_index()\n",
    "df_targets = df_targets.iloc[:-sum(pd.isnull(df_targets.index)),:]"
   ]
  },
  {
   "cell_type": "code",
   "execution_count": null,
   "metadata": {
    "collapsed": true
   },
   "outputs": [],
   "source": []
  },
  {
   "cell_type": "code",
   "execution_count": 14,
   "metadata": {
    "collapsed": true
   },
   "outputs": [],
   "source": [
    "df = df.drop(['wkday', 'weekday', 'day', 'month', 'string_date'], axis = 1)"
   ]
  },
  {
   "cell_type": "code",
   "execution_count": 15,
   "metadata": {
    "collapsed": true
   },
   "outputs": [],
   "source": [
    "col_reg = [col for col in df.columns if 'cos' not in col]\n",
    "col_reg = [col for col in col_reg if 'sin' not in col]"
   ]
  },
  {
   "cell_type": "code",
   "execution_count": 16,
   "metadata": {
    "collapsed": true
   },
   "outputs": [],
   "source": [
    "from sklearn.preprocessing import MinMaxScaler"
   ]
  },
  {
   "cell_type": "code",
   "execution_count": 17,
   "metadata": {
    "collapsed": true
   },
   "outputs": [],
   "source": [
    "scaler = MinMaxScaler()\n",
    "df[col_reg] = scaler.fit_transform(df[col_reg])"
   ]
  },
  {
   "cell_type": "code",
   "execution_count": 37,
   "metadata": {
    "collapsed": true
   },
   "outputs": [],
   "source": [
    "from sklearn.linear_model import LinearRegression\n",
    "from sklearn.model_selection import train_test_split\n",
    "from sklearn.ensemble import RandomForestRegressor, GradientBoostingRegressor"
   ]
  },
  {
   "cell_type": "code",
   "execution_count": 19,
   "metadata": {
    "collapsed": true
   },
   "outputs": [],
   "source": [
    "### Predicting cnt\n",
    "y = df_targets['cnt']\n",
    "X_train, X_test, y_train, y_test = train_test_split(df, y, test_size = .4)\n",
    "X_cv, X_test, y_cv, y_test = train_test_split(X_test, y_test, test_size = .2)"
   ]
  },
  {
   "cell_type": "code",
   "execution_count": 38,
   "metadata": {
    "collapsed": true
   },
   "outputs": [],
   "source": [
    "lr = LinearRegression()\n",
    "rf = GradientBoostingRegressor(n_estimators=1000)"
   ]
  },
  {
   "cell_type": "code",
   "execution_count": 39,
   "metadata": {
    "collapsed": true
   },
   "outputs": [],
   "source": [
    "lr_fit = lr.fit(X_train, y_train)"
   ]
  },
  {
   "cell_type": "code",
   "execution_count": 40,
   "metadata": {
    "collapsed": true
   },
   "outputs": [],
   "source": [
    "rf_fit = rf.fit(X_train, y_train)"
   ]
  },
  {
   "cell_type": "code",
   "execution_count": 41,
   "metadata": {},
   "outputs": [
    {
     "name": "stdout",
     "output_type": "stream",
     "text": [
      "44137.4478133\n"
     ]
    }
   ],
   "source": [
    "y_pred_cv = rf_fit.predict(X_cv)\n",
    "from sklearn.metrics import mean_squared_error\n",
    "print(mean_squared_error(y_cv, y_pred_cv))"
   ]
  },
  {
   "cell_type": "code",
   "execution_count": 42,
   "metadata": {
    "collapsed": true
   },
   "outputs": [],
   "source": [
    "y_pred_cv = pd.DataFrame({'predictions': y_pred_cv, 'actual_values':y_cv})"
   ]
  },
  {
   "cell_type": "code",
   "execution_count": 43,
   "metadata": {
    "collapsed": true
   },
   "outputs": [],
   "source": [
    "y_pred_cv.index = X_cv.index"
   ]
  },
  {
   "cell_type": "code",
   "execution_count": null,
   "metadata": {},
   "outputs": [],
   "source": []
  },
  {
   "cell_type": "code",
   "execution_count": 44,
   "metadata": {},
   "outputs": [
    {
     "data": {
      "text/html": [
       "<div>\n",
       "<style>\n",
       "    .dataframe thead tr:only-child th {\n",
       "        text-align: right;\n",
       "    }\n",
       "\n",
       "    .dataframe thead th {\n",
       "        text-align: left;\n",
       "    }\n",
       "\n",
       "    .dataframe tbody tr th {\n",
       "        vertical-align: top;\n",
       "    }\n",
       "</style>\n",
       "<table border=\"1\" class=\"dataframe\">\n",
       "  <thead>\n",
       "    <tr style=\"text-align: right;\">\n",
       "      <th></th>\n",
       "      <th>actual_values</th>\n",
       "      <th>predictions</th>\n",
       "    </tr>\n",
       "    <tr>\n",
       "      <th>index</th>\n",
       "      <th></th>\n",
       "      <th></th>\n",
       "    </tr>\n",
       "  </thead>\n",
       "  <tbody>\n",
       "    <tr>\n",
       "      <th>2010-09-17</th>\n",
       "      <td>6</td>\n",
       "      <td>188.298661</td>\n",
       "    </tr>\n",
       "    <tr>\n",
       "      <th>2010-09-17</th>\n",
       "      <td>2</td>\n",
       "      <td>149.851563</td>\n",
       "    </tr>\n",
       "    <tr>\n",
       "      <th>2010-09-19</th>\n",
       "      <td>5</td>\n",
       "      <td>-29.717051</td>\n",
       "    </tr>\n",
       "    <tr>\n",
       "      <th>2010-09-20</th>\n",
       "      <td>18</td>\n",
       "      <td>57.211456</td>\n",
       "    </tr>\n",
       "    <tr>\n",
       "      <th>2010-09-20</th>\n",
       "      <td>11</td>\n",
       "      <td>151.423625</td>\n",
       "    </tr>\n",
       "    <tr>\n",
       "      <th>2010-09-20</th>\n",
       "      <td>19</td>\n",
       "      <td>24.720715</td>\n",
       "    </tr>\n",
       "    <tr>\n",
       "      <th>2010-09-20</th>\n",
       "      <td>13</td>\n",
       "      <td>2.866578</td>\n",
       "    </tr>\n",
       "    <tr>\n",
       "      <th>2010-09-21</th>\n",
       "      <td>16</td>\n",
       "      <td>-30.537191</td>\n",
       "    </tr>\n",
       "    <tr>\n",
       "      <th>2010-09-21</th>\n",
       "      <td>20</td>\n",
       "      <td>23.175010</td>\n",
       "    </tr>\n",
       "    <tr>\n",
       "      <th>2010-09-21</th>\n",
       "      <td>3</td>\n",
       "      <td>139.170737</td>\n",
       "    </tr>\n",
       "    <tr>\n",
       "      <th>2010-09-21</th>\n",
       "      <td>22</td>\n",
       "      <td>-21.561968</td>\n",
       "    </tr>\n",
       "    <tr>\n",
       "      <th>2010-09-21</th>\n",
       "      <td>19</td>\n",
       "      <td>38.544710</td>\n",
       "    </tr>\n",
       "    <tr>\n",
       "      <th>2010-09-22</th>\n",
       "      <td>1</td>\n",
       "      <td>1.504017</td>\n",
       "    </tr>\n",
       "    <tr>\n",
       "      <th>2010-09-22</th>\n",
       "      <td>1</td>\n",
       "      <td>-44.250281</td>\n",
       "    </tr>\n",
       "    <tr>\n",
       "      <th>2010-09-22</th>\n",
       "      <td>16</td>\n",
       "      <td>26.322677</td>\n",
       "    </tr>\n",
       "    <tr>\n",
       "      <th>2010-09-22</th>\n",
       "      <td>27</td>\n",
       "      <td>45.267395</td>\n",
       "    </tr>\n",
       "    <tr>\n",
       "      <th>2010-09-22</th>\n",
       "      <td>4</td>\n",
       "      <td>-43.983780</td>\n",
       "    </tr>\n",
       "    <tr>\n",
       "      <th>2010-09-22</th>\n",
       "      <td>22</td>\n",
       "      <td>19.064222</td>\n",
       "    </tr>\n",
       "    <tr>\n",
       "      <th>2010-09-22</th>\n",
       "      <td>13</td>\n",
       "      <td>150.588279</td>\n",
       "    </tr>\n",
       "    <tr>\n",
       "      <th>2010-09-22</th>\n",
       "      <td>24</td>\n",
       "      <td>86.984312</td>\n",
       "    </tr>\n",
       "    <tr>\n",
       "      <th>2010-09-22</th>\n",
       "      <td>30</td>\n",
       "      <td>116.145107</td>\n",
       "    </tr>\n",
       "    <tr>\n",
       "      <th>2010-09-23</th>\n",
       "      <td>25</td>\n",
       "      <td>191.439619</td>\n",
       "    </tr>\n",
       "    <tr>\n",
       "      <th>2010-09-23</th>\n",
       "      <td>4</td>\n",
       "      <td>22.721457</td>\n",
       "    </tr>\n",
       "    <tr>\n",
       "      <th>2010-09-23</th>\n",
       "      <td>22</td>\n",
       "      <td>92.317038</td>\n",
       "    </tr>\n",
       "    <tr>\n",
       "      <th>2010-09-23</th>\n",
       "      <td>24</td>\n",
       "      <td>182.794296</td>\n",
       "    </tr>\n",
       "    <tr>\n",
       "      <th>2010-09-23</th>\n",
       "      <td>17</td>\n",
       "      <td>53.358763</td>\n",
       "    </tr>\n",
       "    <tr>\n",
       "      <th>2010-09-23</th>\n",
       "      <td>1</td>\n",
       "      <td>157.330496</td>\n",
       "    </tr>\n",
       "    <tr>\n",
       "      <th>2010-09-23</th>\n",
       "      <td>18</td>\n",
       "      <td>-75.236754</td>\n",
       "    </tr>\n",
       "    <tr>\n",
       "      <th>2010-09-23</th>\n",
       "      <td>13</td>\n",
       "      <td>-101.360158</td>\n",
       "    </tr>\n",
       "    <tr>\n",
       "      <th>2010-09-24</th>\n",
       "      <td>27</td>\n",
       "      <td>19.593300</td>\n",
       "    </tr>\n",
       "    <tr>\n",
       "      <th>...</th>\n",
       "      <td>...</td>\n",
       "      <td>...</td>\n",
       "    </tr>\n",
       "    <tr>\n",
       "      <th>2017-02-24</th>\n",
       "      <td>625</td>\n",
       "      <td>754.970346</td>\n",
       "    </tr>\n",
       "    <tr>\n",
       "      <th>2017-02-24</th>\n",
       "      <td>537</td>\n",
       "      <td>293.352829</td>\n",
       "    </tr>\n",
       "    <tr>\n",
       "      <th>2017-02-24</th>\n",
       "      <td>240</td>\n",
       "      <td>520.056818</td>\n",
       "    </tr>\n",
       "    <tr>\n",
       "      <th>2017-02-25</th>\n",
       "      <td>372</td>\n",
       "      <td>636.784657</td>\n",
       "    </tr>\n",
       "    <tr>\n",
       "      <th>2017-02-25</th>\n",
       "      <td>58</td>\n",
       "      <td>217.129785</td>\n",
       "    </tr>\n",
       "    <tr>\n",
       "      <th>2017-02-25</th>\n",
       "      <td>315</td>\n",
       "      <td>437.956421</td>\n",
       "    </tr>\n",
       "    <tr>\n",
       "      <th>2017-02-25</th>\n",
       "      <td>131</td>\n",
       "      <td>173.876640</td>\n",
       "    </tr>\n",
       "    <tr>\n",
       "      <th>2017-02-25</th>\n",
       "      <td>36</td>\n",
       "      <td>97.465363</td>\n",
       "    </tr>\n",
       "    <tr>\n",
       "      <th>2017-02-25</th>\n",
       "      <td>223</td>\n",
       "      <td>502.939103</td>\n",
       "    </tr>\n",
       "    <tr>\n",
       "      <th>2017-02-25</th>\n",
       "      <td>304</td>\n",
       "      <td>375.699189</td>\n",
       "    </tr>\n",
       "    <tr>\n",
       "      <th>2017-02-25</th>\n",
       "      <td>588</td>\n",
       "      <td>305.804901</td>\n",
       "    </tr>\n",
       "    <tr>\n",
       "      <th>2017-02-26</th>\n",
       "      <td>465</td>\n",
       "      <td>353.711754</td>\n",
       "    </tr>\n",
       "    <tr>\n",
       "      <th>2017-02-26</th>\n",
       "      <td>240</td>\n",
       "      <td>513.578049</td>\n",
       "    </tr>\n",
       "    <tr>\n",
       "      <th>2017-02-26</th>\n",
       "      <td>50</td>\n",
       "      <td>182.946951</td>\n",
       "    </tr>\n",
       "    <tr>\n",
       "      <th>2017-02-26</th>\n",
       "      <td>656</td>\n",
       "      <td>328.550833</td>\n",
       "    </tr>\n",
       "    <tr>\n",
       "      <th>2017-02-27</th>\n",
       "      <td>551</td>\n",
       "      <td>366.629332</td>\n",
       "    </tr>\n",
       "    <tr>\n",
       "      <th>2017-02-27</th>\n",
       "      <td>442</td>\n",
       "      <td>273.114684</td>\n",
       "    </tr>\n",
       "    <tr>\n",
       "      <th>2017-02-27</th>\n",
       "      <td>64</td>\n",
       "      <td>93.833012</td>\n",
       "    </tr>\n",
       "    <tr>\n",
       "      <th>2017-02-27</th>\n",
       "      <td>1</td>\n",
       "      <td>142.806987</td>\n",
       "    </tr>\n",
       "    <tr>\n",
       "      <th>2017-02-27</th>\n",
       "      <td>1132</td>\n",
       "      <td>396.491317</td>\n",
       "    </tr>\n",
       "    <tr>\n",
       "      <th>2017-02-27</th>\n",
       "      <td>260</td>\n",
       "      <td>131.612343</td>\n",
       "    </tr>\n",
       "    <tr>\n",
       "      <th>2017-02-27</th>\n",
       "      <td>250</td>\n",
       "      <td>456.523178</td>\n",
       "    </tr>\n",
       "    <tr>\n",
       "      <th>2017-02-27</th>\n",
       "      <td>611</td>\n",
       "      <td>375.606294</td>\n",
       "    </tr>\n",
       "    <tr>\n",
       "      <th>2017-02-28</th>\n",
       "      <td>449</td>\n",
       "      <td>243.106936</td>\n",
       "    </tr>\n",
       "    <tr>\n",
       "      <th>2017-02-28</th>\n",
       "      <td>220</td>\n",
       "      <td>388.288884</td>\n",
       "    </tr>\n",
       "    <tr>\n",
       "      <th>2017-02-28</th>\n",
       "      <td>836</td>\n",
       "      <td>331.505329</td>\n",
       "    </tr>\n",
       "    <tr>\n",
       "      <th>2017-02-28</th>\n",
       "      <td>485</td>\n",
       "      <td>418.362348</td>\n",
       "    </tr>\n",
       "    <tr>\n",
       "      <th>2017-02-28</th>\n",
       "      <td>105</td>\n",
       "      <td>334.140156</td>\n",
       "    </tr>\n",
       "    <tr>\n",
       "      <th>2017-02-28</th>\n",
       "      <td>889</td>\n",
       "      <td>132.840832</td>\n",
       "    </tr>\n",
       "    <tr>\n",
       "      <th>2017-02-28</th>\n",
       "      <td>437</td>\n",
       "      <td>525.006133</td>\n",
       "    </tr>\n",
       "  </tbody>\n",
       "</table>\n",
       "<p>16491 rows × 2 columns</p>\n",
       "</div>"
      ],
      "text/plain": [
       "            actual_values  predictions\n",
       "index                                 \n",
       "2010-09-17              6   188.298661\n",
       "2010-09-17              2   149.851563\n",
       "2010-09-19              5   -29.717051\n",
       "2010-09-20             18    57.211456\n",
       "2010-09-20             11   151.423625\n",
       "2010-09-20             19    24.720715\n",
       "2010-09-20             13     2.866578\n",
       "2010-09-21             16   -30.537191\n",
       "2010-09-21             20    23.175010\n",
       "2010-09-21              3   139.170737\n",
       "2010-09-21             22   -21.561968\n",
       "2010-09-21             19    38.544710\n",
       "2010-09-22              1     1.504017\n",
       "2010-09-22              1   -44.250281\n",
       "2010-09-22             16    26.322677\n",
       "2010-09-22             27    45.267395\n",
       "2010-09-22              4   -43.983780\n",
       "2010-09-22             22    19.064222\n",
       "2010-09-22             13   150.588279\n",
       "2010-09-22             24    86.984312\n",
       "2010-09-22             30   116.145107\n",
       "2010-09-23             25   191.439619\n",
       "2010-09-23              4    22.721457\n",
       "2010-09-23             22    92.317038\n",
       "2010-09-23             24   182.794296\n",
       "2010-09-23             17    53.358763\n",
       "2010-09-23              1   157.330496\n",
       "2010-09-23             18   -75.236754\n",
       "2010-09-23             13  -101.360158\n",
       "2010-09-24             27    19.593300\n",
       "...                   ...          ...\n",
       "2017-02-24            625   754.970346\n",
       "2017-02-24            537   293.352829\n",
       "2017-02-24            240   520.056818\n",
       "2017-02-25            372   636.784657\n",
       "2017-02-25             58   217.129785\n",
       "2017-02-25            315   437.956421\n",
       "2017-02-25            131   173.876640\n",
       "2017-02-25             36    97.465363\n",
       "2017-02-25            223   502.939103\n",
       "2017-02-25            304   375.699189\n",
       "2017-02-25            588   305.804901\n",
       "2017-02-26            465   353.711754\n",
       "2017-02-26            240   513.578049\n",
       "2017-02-26             50   182.946951\n",
       "2017-02-26            656   328.550833\n",
       "2017-02-27            551   366.629332\n",
       "2017-02-27            442   273.114684\n",
       "2017-02-27             64    93.833012\n",
       "2017-02-27              1   142.806987\n",
       "2017-02-27           1132   396.491317\n",
       "2017-02-27            260   131.612343\n",
       "2017-02-27            250   456.523178\n",
       "2017-02-27            611   375.606294\n",
       "2017-02-28            449   243.106936\n",
       "2017-02-28            220   388.288884\n",
       "2017-02-28            836   331.505329\n",
       "2017-02-28            485   418.362348\n",
       "2017-02-28            105   334.140156\n",
       "2017-02-28            889   132.840832\n",
       "2017-02-28            437   525.006133\n",
       "\n",
       "[16491 rows x 2 columns]"
      ]
     },
     "execution_count": 44,
     "metadata": {},
     "output_type": "execute_result"
    }
   ],
   "source": [
    "y_pred_cv.sort_index()"
   ]
  },
  {
   "cell_type": "code",
   "execution_count": null,
   "metadata": {
    "collapsed": true
   },
   "outputs": [],
   "source": []
  }
 ],
 "metadata": {
  "kernelspec": {
   "display_name": "Python 3",
   "language": "python",
   "name": "python3"
  },
  "language_info": {
   "codemirror_mode": {
    "name": "ipython",
    "version": 3
   },
   "file_extension": ".py",
   "mimetype": "text/x-python",
   "name": "python",
   "nbconvert_exporter": "python",
   "pygments_lexer": "ipython3",
   "version": "3.6.3"
  }
 },
 "nbformat": 4,
 "nbformat_minor": 2
}
