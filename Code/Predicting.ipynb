{
 "cells": [
  {
   "cell_type": "markdown",
   "metadata": {},
   "source": [
    "### Libraries"
   ]
  },
  {
   "cell_type": "code",
   "execution_count": 6,
   "metadata": {
    "collapsed": true
   },
   "outputs": [],
   "source": [
    "import pandas as pd\n",
    "import numpy as np\n",
    "import matplotlib.pyplot as plt\n",
    "%matplotlib inline\n",
    "\n",
    "from sklearn.feature_selection import SelectKBest, chi2, f_regression\n",
    "from sklearn.decomposition import PCA\n",
    "from sklearn.preprocessing import MinMaxScaler, PolynomialFeatures\n",
    "\n",
    "from sklearn.metrics import mean_squared_error\n",
    "from sklearn.model_selection import KFold, train_test_split\n",
    "from sklearn.linear_model import Ridge, Lasso, LinearRegression"
   ]
  },
  {
   "cell_type": "code",
   "execution_count": 7,
   "metadata": {
    "collapsed": true
   },
   "outputs": [],
   "source": [
    "path_ = \"c:/Users/Paul/Desktop/MSc DSBA/1. Big Data Analytics/1. Project/Full Data/Cleaned Data/\""
   ]
  },
  {
   "cell_type": "markdown",
   "metadata": {},
   "source": [
    "### Loading data"
   ]
  },
  {
   "cell_type": "code",
   "execution_count": 8,
   "metadata": {
    "collapsed": true
   },
   "outputs": [],
   "source": [
    "df = pd.read_csv(path_+'featured_daily_data.csv')"
   ]
  },
  {
   "cell_type": "code",
   "execution_count": 9,
   "metadata": {},
   "outputs": [
    {
     "data": {
      "text/html": [
       "<div>\n",
       "<style>\n",
       "    .dataframe thead tr:only-child th {\n",
       "        text-align: right;\n",
       "    }\n",
       "\n",
       "    .dataframe thead th {\n",
       "        text-align: left;\n",
       "    }\n",
       "\n",
       "    .dataframe tbody tr th {\n",
       "        vertical-align: top;\n",
       "    }\n",
       "</style>\n",
       "<table border=\"1\" class=\"dataframe\">\n",
       "  <thead>\n",
       "    <tr style=\"text-align: right;\">\n",
       "      <th></th>\n",
       "      <th>year</th>\n",
       "      <th>month</th>\n",
       "      <th>day</th>\n",
       "      <th>year.1</th>\n",
       "      <th>index</th>\n",
       "      <th>max_temp</th>\n",
       "      <th>min_temp</th>\n",
       "      <th>wind_speed</th>\n",
       "      <th>wind_temp</th>\n",
       "      <th>rain</th>\n",
       "      <th>...</th>\n",
       "      <th>wkday_cos</th>\n",
       "      <th>sunrise_sin</th>\n",
       "      <th>sunrise_cos</th>\n",
       "      <th>sunset_sin</th>\n",
       "      <th>sunset_cos</th>\n",
       "      <th>mnth_sin</th>\n",
       "      <th>mnth_cos</th>\n",
       "      <th>light</th>\n",
       "      <th>missing_rain</th>\n",
       "      <th>mean_rain</th>\n",
       "    </tr>\n",
       "  </thead>\n",
       "  <tbody>\n",
       "    <tr>\n",
       "      <th>0</th>\n",
       "      <td>2010</td>\n",
       "      <td>9</td>\n",
       "      <td>15</td>\n",
       "      <td>2010</td>\n",
       "      <td>2010-09-15</td>\n",
       "      <td>29.0</td>\n",
       "      <td>17.0</td>\n",
       "      <td>2.222222</td>\n",
       "      <td>17.0</td>\n",
       "      <td>0.000000</td>\n",
       "      <td>...</td>\n",
       "      <td>-0.900969</td>\n",
       "      <td>0.965926</td>\n",
       "      <td>0.258819</td>\n",
       "      <td>-1.0</td>\n",
       "      <td>-1.836970e-16</td>\n",
       "      <td>-0.866025</td>\n",
       "      <td>-0.5</td>\n",
       "      <td>13.0</td>\n",
       "      <td>False</td>\n",
       "      <td>7.666667</td>\n",
       "    </tr>\n",
       "    <tr>\n",
       "      <th>1</th>\n",
       "      <td>2010</td>\n",
       "      <td>9</td>\n",
       "      <td>16</td>\n",
       "      <td>2010</td>\n",
       "      <td>2010-09-16</td>\n",
       "      <td>31.0</td>\n",
       "      <td>17.0</td>\n",
       "      <td>4.444444</td>\n",
       "      <td>17.0</td>\n",
       "      <td>1.000000</td>\n",
       "      <td>...</td>\n",
       "      <td>-0.900969</td>\n",
       "      <td>0.965926</td>\n",
       "      <td>0.258819</td>\n",
       "      <td>-1.0</td>\n",
       "      <td>-1.836970e-16</td>\n",
       "      <td>-0.866025</td>\n",
       "      <td>-0.5</td>\n",
       "      <td>13.0</td>\n",
       "      <td>False</td>\n",
       "      <td>7.666667</td>\n",
       "    </tr>\n",
       "    <tr>\n",
       "      <th>2</th>\n",
       "      <td>2010</td>\n",
       "      <td>9</td>\n",
       "      <td>17</td>\n",
       "      <td>2010</td>\n",
       "      <td>2010-09-17</td>\n",
       "      <td>25.0</td>\n",
       "      <td>18.0</td>\n",
       "      <td>4.166667</td>\n",
       "      <td>18.0</td>\n",
       "      <td>2.000000</td>\n",
       "      <td>...</td>\n",
       "      <td>-0.222521</td>\n",
       "      <td>0.965926</td>\n",
       "      <td>0.258819</td>\n",
       "      <td>-1.0</td>\n",
       "      <td>-1.836970e-16</td>\n",
       "      <td>-0.866025</td>\n",
       "      <td>-0.5</td>\n",
       "      <td>13.0</td>\n",
       "      <td>False</td>\n",
       "      <td>7.666667</td>\n",
       "    </tr>\n",
       "    <tr>\n",
       "      <th>3</th>\n",
       "      <td>2010</td>\n",
       "      <td>9</td>\n",
       "      <td>19</td>\n",
       "      <td>2010</td>\n",
       "      <td>2010-09-19</td>\n",
       "      <td>29.0</td>\n",
       "      <td>16.0</td>\n",
       "      <td>1.388889</td>\n",
       "      <td>16.0</td>\n",
       "      <td>7.666667</td>\n",
       "      <td>...</td>\n",
       "      <td>0.623490</td>\n",
       "      <td>0.965926</td>\n",
       "      <td>0.258819</td>\n",
       "      <td>-1.0</td>\n",
       "      <td>-1.836970e-16</td>\n",
       "      <td>-0.866025</td>\n",
       "      <td>-0.5</td>\n",
       "      <td>13.0</td>\n",
       "      <td>True</td>\n",
       "      <td>7.666667</td>\n",
       "    </tr>\n",
       "    <tr>\n",
       "      <th>4</th>\n",
       "      <td>2010</td>\n",
       "      <td>9</td>\n",
       "      <td>20</td>\n",
       "      <td>2010</td>\n",
       "      <td>2010-09-20</td>\n",
       "      <td>25.0</td>\n",
       "      <td>16.0</td>\n",
       "      <td>5.000000</td>\n",
       "      <td>16.0</td>\n",
       "      <td>7.666667</td>\n",
       "      <td>...</td>\n",
       "      <td>1.000000</td>\n",
       "      <td>0.965926</td>\n",
       "      <td>0.258819</td>\n",
       "      <td>-1.0</td>\n",
       "      <td>-1.836970e-16</td>\n",
       "      <td>-0.866025</td>\n",
       "      <td>-0.5</td>\n",
       "      <td>13.0</td>\n",
       "      <td>True</td>\n",
       "      <td>7.666667</td>\n",
       "    </tr>\n",
       "  </tbody>\n",
       "</table>\n",
       "<p>5 rows × 39 columns</p>\n",
       "</div>"
      ],
      "text/plain": [
       "   year  month  day  year.1       index  max_temp  min_temp  wind_speed  \\\n",
       "0  2010      9   15    2010  2010-09-15      29.0      17.0    2.222222   \n",
       "1  2010      9   16    2010  2010-09-16      31.0      17.0    4.444444   \n",
       "2  2010      9   17    2010  2010-09-17      25.0      18.0    4.166667   \n",
       "3  2010      9   19    2010  2010-09-19      29.0      16.0    1.388889   \n",
       "4  2010      9   20    2010  2010-09-20      25.0      16.0    5.000000   \n",
       "\n",
       "   wind_temp      rain    ...      wkday_cos  sunrise_sin  sunrise_cos  \\\n",
       "0       17.0  0.000000    ...      -0.900969     0.965926     0.258819   \n",
       "1       17.0  1.000000    ...      -0.900969     0.965926     0.258819   \n",
       "2       18.0  2.000000    ...      -0.222521     0.965926     0.258819   \n",
       "3       16.0  7.666667    ...       0.623490     0.965926     0.258819   \n",
       "4       16.0  7.666667    ...       1.000000     0.965926     0.258819   \n",
       "\n",
       "   sunset_sin    sunset_cos  mnth_sin  mnth_cos  light  missing_rain  \\\n",
       "0        -1.0 -1.836970e-16 -0.866025      -0.5   13.0         False   \n",
       "1        -1.0 -1.836970e-16 -0.866025      -0.5   13.0         False   \n",
       "2        -1.0 -1.836970e-16 -0.866025      -0.5   13.0         False   \n",
       "3        -1.0 -1.836970e-16 -0.866025      -0.5   13.0          True   \n",
       "4        -1.0 -1.836970e-16 -0.866025      -0.5   13.0          True   \n",
       "\n",
       "   mean_rain  \n",
       "0   7.666667  \n",
       "1   7.666667  \n",
       "2   7.666667  \n",
       "3   7.666667  \n",
       "4   7.666667  \n",
       "\n",
       "[5 rows x 39 columns]"
      ]
     },
     "execution_count": 9,
     "metadata": {},
     "output_type": "execute_result"
    }
   ],
   "source": [
    "df.head()"
   ]
  },
  {
   "cell_type": "markdown",
   "metadata": {},
   "source": [
    "### Setting index"
   ]
  },
  {
   "cell_type": "code",
   "execution_count": 10,
   "metadata": {
    "collapsed": true
   },
   "outputs": [],
   "source": [
    "df['index'] = pd.to_datetime(df['index'])\n",
    "df = df.set_index('index', drop = True)"
   ]
  },
  {
   "cell_type": "code",
   "execution_count": 11,
   "metadata": {
    "collapsed": true
   },
   "outputs": [],
   "source": [
    "data = df"
   ]
  },
  {
   "cell_type": "code",
   "execution_count": 12,
   "metadata": {
    "collapsed": true
   },
   "outputs": [],
   "source": [
    "df_targets = data['cnt']"
   ]
  },
  {
   "cell_type": "code",
   "execution_count": 13,
   "metadata": {
    "collapsed": true
   },
   "outputs": [],
   "source": [
    "df = data.drop(['cnt', 'registered', 'casual', 'string_date', 'month','year', 'day'], axis = 1)"
   ]
  },
  {
   "cell_type": "code",
   "execution_count": 14,
   "metadata": {},
   "outputs": [
    {
     "name": "stdout",
     "output_type": "stream",
     "text": [
      "(2171, 497)\n"
     ]
    }
   ],
   "source": [
    "mm = MinMaxScaler()\n",
    "df = mm.fit_transform(df)\n",
    "\n",
    "pf = PolynomialFeatures(degree = 2, interaction_only=True)\n",
    "df = pf.fit_transform(df)\n",
    "\n",
    "print(df.shape)\n",
    "mm_targets = MinMaxScaler()\n",
    "df_targets = mm_targets.fit_transform(df_targets.values.astype(float).reshape(-1,1))"
   ]
  },
  {
   "cell_type": "code",
   "execution_count": 24,
   "metadata": {},
   "outputs": [
    {
     "name": "stderr",
     "output_type": "stream",
     "text": [
      "C:\\Users\\Paul\\Anaconda3\\lib\\site-packages\\sklearn\\feature_selection\\univariate_selection.py:279: RuntimeWarning: invalid value encountered in true_divide\n",
      "  corr /= row_norms(X.T)\n",
      "C:\\Users\\Paul\\Anaconda3\\lib\\site-packages\\scipy\\stats\\_distn_infrastructure.py:879: RuntimeWarning: invalid value encountered in greater\n",
      "  return (self.a < x) & (x < self.b)\n",
      "C:\\Users\\Paul\\Anaconda3\\lib\\site-packages\\scipy\\stats\\_distn_infrastructure.py:879: RuntimeWarning: invalid value encountered in less\n",
      "  return (self.a < x) & (x < self.b)\n",
      "C:\\Users\\Paul\\Anaconda3\\lib\\site-packages\\scipy\\stats\\_distn_infrastructure.py:1818: RuntimeWarning: invalid value encountered in less_equal\n",
      "  cond2 = cond0 & (x <= self.a)\n"
     ]
    }
   ],
   "source": [
    "selecting_features = SelectKBest(f_regression, k=200).fit(df, df_targets.reshape(-1,))\n",
    "#pca = PCA(n_components=300).fit(df)"
   ]
  },
  {
   "cell_type": "code",
   "execution_count": 25,
   "metadata": {
    "collapsed": true
   },
   "outputs": [],
   "source": [
    "df_best = selecting_features.transform(df)\n",
    "#df_best = pca.transform(df)\n",
    "#df_best = df"
   ]
  },
  {
   "cell_type": "code",
   "execution_count": null,
   "metadata": {
    "collapsed": true
   },
   "outputs": [],
   "source": []
  },
  {
   "cell_type": "code",
   "execution_count": 26,
   "metadata": {
    "collapsed": true
   },
   "outputs": [],
   "source": [
    "k_fold = KFold(n_splits=10)"
   ]
  },
  {
   "cell_type": "code",
   "execution_count": 33,
   "metadata": {},
   "outputs": [
    {
     "name": "stdout",
     "output_type": "stream",
     "text": [
      "Lasso : 0.05444776323828306\n",
      "Ridge : 0.009617851453102495\n",
      "No reg : 0.016072767884965127\n"
     ]
    }
   ],
   "source": [
    "scores_ridge = []\n",
    "scores_lasso = []\n",
    "scores_ridge_train = []\n",
    "scores_lasso_train = []\n",
    "scores_lr = []\n",
    "scores_lr_train = []\n",
    "\n",
    "\n",
    "for train_index, test_index in k_fold.split(df_best):\n",
    "    \n",
    "    X_train = df_best[train_index, :]\n",
    "    y_train = df_targets[train_index]\n",
    "    X_test = df_best[test_index, :]\n",
    "    y_test = df_targets[test_index]\n",
    "    \n",
    "    ridge = Ridge()\n",
    "    lasso = Lasso()\n",
    "    lr = LinearRegression()\n",
    "    \n",
    "    \n",
    "    ridge.fit(X_train,y_train)\n",
    "    lasso.fit(X_train, y_train)\n",
    "    lr.fit(X_train, y_train)\n",
    "    \n",
    "    scores_ridge.append(mean_squared_error(y_test, ridge.predict(X_test)))\n",
    "    scores_lasso.append(mean_squared_error(y_test, lasso.predict(X_test)))\n",
    "    scores_lr.append(mean_squared_error(y_test, lr.predict(X_test)))\n",
    "    scores_ridge_train.append(mean_squared_error(y_train, ridge.predict(X_train)))\n",
    "    scores_lasso_train.append(mean_squared_error(y_train, lasso.predict(X_train)))\n",
    "    scores_lr_train.append(mean_squared_error(y_train, lr.predict(X_train)))\n",
    "    \n",
    "print('Lasso : {}'.format(np.mean(scores_lasso)))\n",
    "print('Ridge : {}'.format(np.mean(scores_ridge)))\n",
    "print('No reg : {}'.format(np.mean(scores_lr)))"
   ]
  },
  {
   "cell_type": "markdown",
   "metadata": {},
   "source": [
    "We can see that with a ridge regression, we get the best results"
   ]
  },
  {
   "cell_type": "markdown",
   "metadata": {},
   "source": [
    "### Training linear regression without regularization"
   ]
  },
  {
   "cell_type": "code",
   "execution_count": 28,
   "metadata": {
    "collapsed": true
   },
   "outputs": [],
   "source": [
    "X_train, X_test, y_train, y_test = train_test_split(df_best, df_targets, test_size = .2)"
   ]
  },
  {
   "cell_type": "markdown",
   "metadata": {},
   "source": [
    "#### Linear Regression"
   ]
  },
  {
   "cell_type": "code",
   "execution_count": 34,
   "metadata": {
    "scrolled": true
   },
   "outputs": [
    {
     "name": "stdout",
     "output_type": "stream",
     "text": [
      "Training score 0.005310232464773438\n",
      "Cross-Validation 0.01641107938540663\n"
     ]
    }
   ],
   "source": [
    "model = Ridge()\n",
    "model.fit(X_train, y_train)\n",
    "training_score = mean_squared_error(y_train, model.predict(X_train))\n",
    "y_pred_test = model.predict(X_test)\n",
    "test_score = mean_squared_error(y_test, y_pred_test)\n",
    "print('Training score {}'.format(training_score))\n",
    "print('Cross-Validation {}'.format(test_score))"
   ]
  },
  {
   "cell_type": "markdown",
   "metadata": {},
   "source": [
    "#### Editing prediction values"
   ]
  },
  {
   "cell_type": "code",
   "execution_count": 35,
   "metadata": {},
   "outputs": [
    {
     "name": "stdout",
     "output_type": "stream",
     "text": [
      "Mean prediction error 3891869.024666099\n"
     ]
    }
   ],
   "source": [
    "actual_predictions = mm_targets.inverse_transform(y_pred_test)\n",
    "actual_values = mm_targets.inverse_transform(y_test)\n",
    "\n",
    "## We are gonna assume that the minimum and the maximum values that we can predict are those of the actual values \n",
    "actual_predictions[actual_predictions<np.min(actual_values)] = np.min(actual_values)\n",
    "actual_predictions[actual_predictions>np.max(actual_values)] = np.max(actual_values)\n",
    "\n",
    "\n",
    "actual_error = mean_squared_error(actual_predictions, actual_values)\n",
    "\n",
    "print(\"Mean prediction error {}\".format(actual_error))"
   ]
  },
  {
   "cell_type": "markdown",
   "metadata": {},
   "source": [
    "This error seems very important: on average a 2000 bikes error."
   ]
  },
  {
   "cell_type": "code",
   "execution_count": 37,
   "metadata": {},
   "outputs": [
    {
     "data": {
      "image/png": "[encoded data removed]",
      "text/plain": [
       "<matplotlib.figure.Figure at 0x1b84e306ac8>"
      ]
     },
     "metadata": {},
     "output_type": "display_data"
    },
    {
     "name": "stdout",
     "output_type": "stream",
     "text": [
      "0.256557166551\n"
     ]
    }
   ],
   "source": [
    "relative_error = np.abs(np.array(actual_values-actual_predictions)/np.array(actual_values))\n",
    "\n",
    "plt.figure(figsize = (16,8))\n",
    "plt.hist(relative_error, bins=200, range=(0, 1))\n",
    "plt.axvline(.05, color = 'r')\n",
    "#plt.axvline(-.05, color = 'r')\n",
    "plt.xlabel(\"Relative Error\")\n",
    "plt.show()\n",
    "print(np.mean(relative_error))"
   ]
  },
  {
   "cell_type": "markdown",
   "metadata": {},
   "source": [
    "In average, we can predict the number of bikes to be used with a 25% margin error\n",
    "This means that we can predict days of high demand and days of low demand but not with a great precision"
   ]
  },
  {
   "cell_type": "code",
   "execution_count": 39,
   "metadata": {},
   "outputs": [
    {
     "data": {
      "image/png": "[encoded data removed]",
      "text/plain": [
       "<matplotlib.figure.Figure at 0x1b84e306390>"
      ]
     },
     "metadata": {},
     "output_type": "display_data"
    }
   ],
   "source": [
    "plt.figure(figsize = (16,8))\n",
    "plt.plot(actual_values[-50:])\n",
    "plt.plot(actual_predictions[-50:])\n",
    "plt.legend(['actual', 'predictions'])\n",
    "plt.title('last 50 days of the dataset')\n",
    "plt.xlabel('last days (index)')\n",
    "plt.ylabel('demande for bikes')\n",
    "plt.show()"
   ]
  },
  {
   "cell_type": "code",
   "execution_count": null,
   "metadata": {
    "collapsed": true
   },
   "outputs": [],
   "source": []
  }
 ],
 "metadata": {
  "kernelspec": {
   "display_name": "Python [default]",
   "language": "python",
   "name": "python3"
  },
  "language_info": {
   "codemirror_mode": {
    "name": "ipython",
    "version": 3
   },
   "file_extension": ".py",
   "mimetype": "text/x-python",
   "name": "python",
   "nbconvert_exporter": "python",
   "pygments_lexer": "ipython3",
   "version": "3.5.3"
  }
 },
 "nbformat": 4,
 "nbformat_minor": 2
}
