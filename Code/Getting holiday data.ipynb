{
 "cells": [
  {
   "cell_type": "code",
   "execution_count": 108,
   "metadata": {
    "collapsed": true
   },
   "outputs": [],
   "source": [
    "import pandas as pd \n",
    "import requests\n",
    "from bs4 import BeautifulSoup\n",
    "import numpy as np\n",
    "import matplotlib.pyplot as plt\n",
    "pd.options.mode.chained_assignment = None"
   ]
  },
  {
   "cell_type": "code",
   "execution_count": 24,
   "metadata": {
    "scrolled": false
   },
   "outputs": [],
   "source": [
    "url = 'https://dchr.dc.gov/page/holiday-schedules-2010-and-2011'\n",
    "\n",
    "r = requests.get(url)\n",
    "\n",
    "soup = BeautifulSoup(r.text, 'html.parser')\n",
    "\n",
    "lis = soup.find_all('li')"
   ]
  },
  {
   "cell_type": "code",
   "execution_count": 36,
   "metadata": {},
   "outputs": [
    {
     "name": "stdout",
     "output_type": "stream",
     "text": [
      "['Friday, December 31, 2010', 'Monday, January 17, 2011', 'Monday, February 21, 2011', 'Friday, April 15, 2011', 'Monday, May 30, 2011', 'Monday, July 4, 2011', 'Monday, September 5, 2011', 'Monday, October 10, 2011', 'Friday, November 11, 2011', 'Thursday, November 24, 2011', 'Monday, December 26, 2011', 'Friday, January 1, 2010 ', 'Monday, January 18, 2010', 'Monday, February 15, 2010', 'Friday, April 16, 2010', 'Monday, May 31, 2010', 'Monday, July 5, 2010', 'Monday, September 6, 2010', 'Monday, October 11, 2010', 'Thursday, November 11, 2010', 'Thursday, November 25, 2010', 'Friday, December 24, 2010']\n"
     ]
    }
   ],
   "source": [
    "holiday_2010_2011 = [li.get_text().replace('\\t', '').replace('\\n', '').split('\\xa0')[0] for li in lis[39:61]]\n",
    "\n",
    "print(holiday_2010_2011)"
   ]
  },
  {
   "cell_type": "code",
   "execution_count": 48,
   "metadata": {
    "collapsed": true
   },
   "outputs": [],
   "source": [
    "url = 'https://dchr.dc.gov/page/holiday-schedules-2012-and-2013'\n",
    "r = requests.get(url)\n",
    "\n",
    "soup = BeautifulSoup(r.text, 'html.parser')\n",
    "\n",
    "lis = soup.find_all('li')\n",
    "\n",
    "holiday_2012_2013 = [li.get_text().replace('\\t', '').replace('\\n', '').split('\\xa0')[0] for li in lis[39:62]]\n"
   ]
  },
  {
   "cell_type": "code",
   "execution_count": 50,
   "metadata": {},
   "outputs": [
    {
     "name": "stdout",
     "output_type": "stream",
     "text": [
      "['Tuesday, January 1, 2013', 'Monday, January 21, 2013', 'Inauguration Day (falls on Sunday, January 20, 2013)*', 'Monday, February 18, 2013', 'Tuesday, April 16, 2013', 'Monday, May 27, 2013', 'Thursday, July 4, 2013', 'Monday, September 2, 2013', 'Monday, October 14, 2013', 'Monday, November 11, 2013', 'Thursday, November 28, 2013', 'Wednesday, December 25, 2013', 'Monday, January 2, 2012', 'Monday, January 16, 2012', 'Monday, February 20, 2012', 'Monday, April 16, 2012', 'Monday, May 28, 2012', 'Wednesday, July 4, 2012', 'Monday, September 3, 2012', 'Monday, October 8, 2012', 'Monday, November 12, 2012', 'Thursday, November 22, 2012', 'Tuesday, December 25, 2012']\n"
     ]
    }
   ],
   "source": [
    "print(holiday_2012_2013)"
   ]
  },
  {
   "cell_type": "code",
   "execution_count": 57,
   "metadata": {
    "collapsed": true
   },
   "outputs": [],
   "source": [
    "url = 'https://dchr.dc.gov/page/holiday-schedules-2014-and-2015'\n",
    "\n",
    "r = requests.get(url)\n",
    "\n",
    "soup = BeautifulSoup(r.text, 'html.parser')\n",
    "\n",
    "lis = soup.find_all('li')\n",
    "\n",
    "holiday_2014_2015 = [li.get_text().replace('\\t', '').replace('\\n', '').split('\\xa0')[0] for li in lis[39:61]]\n"
   ]
  },
  {
   "cell_type": "code",
   "execution_count": 58,
   "metadata": {},
   "outputs": [
    {
     "name": "stdout",
     "output_type": "stream",
     "text": [
      "['Thursday, January 1, 2015', 'Monday, January 19, 2015', 'Monday, February 16, 2015', 'Thursday, April 16, 2015', 'Monday, May 25, 2015', 'Friday, July 3, 2015', 'Monday, September 7, 2015', 'Monday, October 12, 2015', 'Wednesday, November 11, 2015', 'Thursday, November 26, 2015', 'Friday, December 25, 2015', 'Wednesday, January 1, 2014', 'Monday, January 20, 2014', 'Monday, February 17, 2014', 'Wednesday, April 16, 2014', 'Monday, May 26, 2014', 'Friday, July 4, 2014', 'Monday, September 1, 2014', 'Monday, October 13, 2014', 'Tuesday, November 11, 2014', 'Thursday, November 27, 2014', 'Thursday, December 25, 2014']\n"
     ]
    }
   ],
   "source": [
    "print(holiday_2014_2015)"
   ]
  },
  {
   "cell_type": "code",
   "execution_count": 73,
   "metadata": {
    "collapsed": true
   },
   "outputs": [],
   "source": [
    "url = 'https://dchr.dc.gov/page/holiday-schedules'\n",
    "\n",
    "r = requests.get(url)\n",
    "\n",
    "soup = BeautifulSoup(r.text, 'html.parser')\n",
    "\n",
    "lis = soup.find_all('li')\n",
    "\n",
    "holiday_2016_2017 = [li.get_text().replace('\\t', '').replace('\\n', '').split('\\xa0')[0] for li in lis[64:87]]\n"
   ]
  },
  {
   "cell_type": "code",
   "execution_count": 77,
   "metadata": {
    "scrolled": false
   },
   "outputs": [],
   "source": [
    "holidays = pd.Series(np.concatenate([holiday_2010_2011, holiday_2012_2013, holiday_2014_2015, holiday_2016_2017]))"
   ]
  },
  {
   "cell_type": "code",
   "execution_count": 80,
   "metadata": {},
   "outputs": [],
   "source": [
    "holidays = pd.DataFrame({'raw_date':holidays})"
   ]
  },
  {
   "cell_type": "code",
   "execution_count": 84,
   "metadata": {},
   "outputs": [],
   "source": [
    "holidays['raw_month'] = holidays['raw_date'].apply(lambda x: str(x).split(', ')[1].split(' ')[0]) "
   ]
  },
  {
   "cell_type": "code",
   "execution_count": 98,
   "metadata": {},
   "outputs": [],
   "source": [
    "holidays['day'] = holidays['raw_date'].apply(lambda x: str(x).split(' ')[2].replace(',', ''))"
   ]
  },
  {
   "cell_type": "code",
   "execution_count": 106,
   "metadata": {},
   "outputs": [],
   "source": [
    "holidays = holidays[holidays.day.apply(len)<=2]\n"
   ]
  },
  {
   "cell_type": "code",
   "execution_count": 109,
   "metadata": {},
   "outputs": [],
   "source": [
    "holidays['day'] = holidays.day.astype(int)"
   ]
  },
  {
   "cell_type": "code",
   "execution_count": 113,
   "metadata": {},
   "outputs": [],
   "source": [
    "holidays['year'] = holidays['raw_date'].apply(lambda x: str(x).split(', ')[2][:4]).astype(int)"
   ]
  },
  {
   "cell_type": "code",
   "execution_count": 116,
   "metadata": {},
   "outputs": [],
   "source": [
    "mapping_months = {'December':12, 'January':1, 'February':2, 'April':4, 'May':5, 'July':7,\n",
    "       'September':9, 'October':10, 'November':11}"
   ]
  },
  {
   "cell_type": "code",
   "execution_count": 117,
   "metadata": {
    "collapsed": true
   },
   "outputs": [],
   "source": [
    "holidays['month'] = holidays['raw_month'].apply(lambda x: mapping_months[x])"
   ]
  },
  {
   "cell_type": "code",
   "execution_count": 119,
   "metadata": {},
   "outputs": [],
   "source": [
    "holidays = holidays[['day', 'month', 'year']]"
   ]
  },
  {
   "cell_type": "code",
   "execution_count": 121,
   "metadata": {
    "collapsed": true
   },
   "outputs": [],
   "source": [
    "holidays.to_csv('C:/Users/Marie/Desktop/Bike Sharing/Full Data/Cleaned Data/holidays.csv', index = False)"
   ]
  },
  {
   "cell_type": "code",
   "execution_count": null,
   "metadata": {
    "collapsed": true
   },
   "outputs": [],
   "source": []
  }
 ],
 "metadata": {
  "kernelspec": {
   "display_name": "Python 3",
   "language": "python",
   "name": "python3"
  },
  "language_info": {
   "codemirror_mode": {
    "name": "ipython",
    "version": 3
   },
   "file_extension": ".py",
   "mimetype": "text/x-python",
   "name": "python",
   "nbconvert_exporter": "python",
   "pygments_lexer": "ipython3",
   "version": "3.6.3"
  }
 },
 "nbformat": 4,
 "nbformat_minor": 2
}
